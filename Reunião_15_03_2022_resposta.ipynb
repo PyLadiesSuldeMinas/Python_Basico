{
  "cells": [
    {
      "cell_type": "markdown",
      "id": "d28ef4e7",
      "metadata": {
        "id": "d28ef4e7"
      },
      "source": [
        "# Primeira reunião PyLadies\n",
        "\n",
        "Nesta reunião, revisaremos os conceitos básicos de Python como laços de repetição, declaração de variáveis, arrays e listas, tipos de dados, entre outros. Para isso, teremos dois desafios diferentes, que serão feitos em grupo e com ajuda, então não precisam se descabelar ;)\n",
        "\n",
        "Vamos ao nosso primeiro..."
      ]
    },
    {
      "cell_type": "markdown",
      "id": "ef343d13",
      "metadata": {
        "id": "ef343d13"
      },
      "source": [
        "## Primeiro desafio\n",
        "\n",
        "Crie uma estrutura de array (lista, tupla, dicionário, vetor...) de chamada escolar contendo o nome e outra estrutura igual contendo a nota de cinco alunos. Em seguida, imprima na tela o nome daqueles alunos que foram aprovados (obtiveram nota maior ou igual a 6)"
      ]
    },
    {
      "cell_type": "code",
      "execution_count": null,
      "id": "d3636f5a",
      "metadata": {
        "id": "d3636f5a",
        "outputId": "ebf0e5b3-8a1a-49ea-da1b-e71127e0f202",
        "colab": {
          "base_uri": "https://localhost:8080/"
        }
      },
      "outputs": [
        {
          "output_type": "stream",
          "name": "stdout",
          "text": [
            "Laura\n",
            "Arthur\n",
            "fim do programa\n"
          ]
        }
      ],
      "source": [
        "#primeiro, criaremos a lista de chamada\n",
        "chamada_nomes = [\"João\", \"Maria\", \"Patrícia\", \"Laura\", \"Arthur\"]\n",
        "chamada_notas = [7.5, 6.5, 9.4, 3.5, 5.9999]\n",
        "\n",
        "#depois, criaremos um laço de repetição que percorre toda a lista\n",
        "#como as duas listas tem o mesmo tamanho, pegaremos a lista de nomes como quantidade de iterações\n",
        "for i in range(len(chamada_nomes)):\n",
        "    #a cada loop nas listas, deve-se comparar a nota do aluno para ver se foi aprovado\n",
        "    if chamada_notas[i] >= 6.0:\n",
        "        #se o aluno teve nota maior, exibe o nome\n",
        "        print (chamada_nomes[i])\n",
        "    #caso contrario não precisa fazer nada\n",
        "print (\"fim do programa\")"
      ]
    },
    {
      "cell_type": "markdown",
      "id": "142f45e5",
      "metadata": {
        "id": "142f45e5"
      },
      "source": [
        "## Segundo desafio\n",
        "\n",
        "Agora que você já sabe percorrer listas, dada uma lista de números inteiros sem repetições e desordenada, busque se existe dentro dela um número digitado pelo usuário e se sim, imprima o índice onde ele está. Para implementar esta busca, usaremos o algoritmo de Busca Sequencial, que consiste em percorrer a lista elemento a elemento, desde o primeiro ao último, comparando se é o item buscado ou não. Caso não for encontrado, deve-se exibir uma mensagem de falha no final do código"
      ]
    },
    {
      "cell_type": "code",
      "execution_count": null,
      "id": "a287cc34",
      "metadata": {
        "id": "a287cc34",
        "outputId": "69252618-013a-4505-b2a6-7b9e0cdafd70"
      },
      "outputs": [
        {
          "name": "stdout",
          "output_type": "stream",
          "text": [
            "Digite um numero inteiro: 1516\n",
            "O numero não foi encontrado na lista\n"
          ]
        }
      ],
      "source": [
        "#primeiramente, vamos declarar a lista\n",
        "lista = [3, 43, 783, 252, 8, 0, 35, 24]\n",
        "\n",
        "#em seguida, vamos coletar um número que usuário digitar\n",
        "entrada = input(\"Digite um numero inteiro: \")\n",
        "\n",
        "#e vamos converte-lo para uma variável inteira, para podermos comparar com a lista\n",
        "numero = int(entrada)\n",
        "\n",
        "#precisamos tambem de uma variável de controle (flag), para dizer se encontramos o numero no fim \n",
        "achou = False\n",
        "\n",
        "#vamos então começar a percorrer esta lista\n",
        "for i in range(len(lista)):\n",
        "    #verifica se o numero é o mesmo que o usuário procura\n",
        "    if lista[i] == numero:\n",
        "        #se sim, exibe o indice na lista\n",
        "        print (\"O número está na posição \", i)\n",
        "        #e configura a flag para marcar sim\n",
        "        achou = True\n",
        "        break #comando que para a execução de um loop quando é lido pelo programa\n",
        "        #neste caso, só vai chegar aqui se a condição for verdadeira\n",
        "        \n",
        "#depois de sair do loop (por ter percorrido a lista toda ou por causa o comando break), precisamos imprimir a mensagem de erro _\n",
        "# _se o número não foi encontrado\n",
        "if achou == False:\n",
        "    print(\"O numero não foi encontrado na lista\")\n",
        "    "
      ]
    }
  ],
  "metadata": {
    "kernelspec": {
      "display_name": "Python 3 (ipykernel)",
      "language": "python",
      "name": "python3"
    },
    "language_info": {
      "codemirror_mode": {
        "name": "ipython",
        "version": 3
      },
      "file_extension": ".py",
      "mimetype": "text/x-python",
      "name": "python",
      "nbconvert_exporter": "python",
      "pygments_lexer": "ipython3",
      "version": "3.10.2"
    },
    "colab": {
      "name": "Reunião 15/03/2022 - resposta.ipynb",
      "provenance": [],
      "collapsed_sections": []
    }
  },
  "nbformat": 4,
  "nbformat_minor": 5
}