{
  "nbformat": 4,
  "nbformat_minor": 0,
  "metadata": {
    "colab": {
      "name": "RespostasCurso.ipynb",
      "provenance": [],
      "collapsed_sections": [],
      "authorship_tag": "ABX9TyN5+Wl0RCzrQ+RmXMDHdgoi",
      "include_colab_link": true
    },
    "kernelspec": {
      "name": "python3",
      "display_name": "Python 3"
    },
    "language_info": {
      "name": "python"
    }
  },
  "cells": [
    {
      "cell_type": "markdown",
      "metadata": {
        "id": "view-in-github",
        "colab_type": "text"
      },
      "source": [
        "<a href=\"https://colab.research.google.com/github/PyLadiesSuldeMinas/Python_Basico/blob/master/RespostasCurso.ipynb\" target=\"_parent\"><img src=\"https://colab.research.google.com/assets/colab-badge.svg\" alt=\"Open In Colab\"/></a>"
      ]
    },
    {
      "cell_type": "markdown",
      "metadata": {
        "id": "I_CrANUs2426"
      },
      "source": [
        "# Respostas das atividades do curso de 03/04/21\n",
        "\n"
      ]
    },
    {
      "cell_type": "markdown",
      "metadata": {
        "id": "5flygYLT2b3w"
      },
      "source": [
        "Crie uma lista de compras e uma lista de preços. As posições devem\n",
        "estar relacionadas entre si. Crie pelo menos 10 elementos. Depois,\n",
        "adicione as opções abaixo para manipular a lista de forma genérica:\n",
        "\n",
        "*   Adicionar um elemento na lista\n",
        "*   Retirar o elemento na posição X na lista\n",
        "*   Adicionar um elemento na posição X da lista\n",
        "*   Ordene a lista, não esquecendo manter o relacionamento com a\n",
        "lista de preços\n",
        "\n"
      ]
    },
    {
      "cell_type": "code",
      "metadata": {
        "id": "IF_3Nc6O2zrz"
      },
      "source": [
        "#declarando as listas de compra e de preço\n",
        "#a posição N da variável preço contém o valor do produto N da lista de compras\n",
        "lista = ['macarrao', 'banana', 'arroz', 'feijão', 'batata', 'chocolate', 'berinjela', 'repolho', 'uva', 'pitaya', 'goiaba', 'abacate']\n",
        "preco = [2.5, 3, 27.90, 8, 4.5, 5.6, 5.9, 1.99, 7, 9, 7, 4.5]\n",
        "\n",
        "#adicionando um elemento na lista\n",
        "item = input(\"digite um produto para a lista de compras: \") #ao ser recebido o elemento estará 'naturalmente' no formato string\n",
        "lista.append(item) #usa o comando para adicionar o item para a lista\n",
        "#como o preço deve sempre acompanhar o item, ele será adicionado na ultima posição da outra variável também\n",
        "valor = float(input(\"digite o preço do item: \")) #converte para pronto flutuante, já que é recebido como string\n",
        "preco.append(valor)\n",
        "\n",
        "#exibindo o resultado da operação\n",
        "print(lista, \"\\n\", preco)\n",
        "\n",
        "#retirando um elemento X da lista, escolhido pelo usuário\n",
        "pos = int(input(\"Digite a posição do item que você quer remover(iniciando em 0): \")) #converte para inteiro, pois recebe sempre uma string\n",
        "#remove na lista de compras e de preços\n",
        "#apesar de o comando pop retornar o item, se nenhuma variavel receber, ele apenas remove\n",
        "lista.pop(pos)\n",
        "preco.pop(pos)\n",
        "\n",
        "#exibindo o resultado da operação\n",
        "print(lista, \"\\n\", preco)\n",
        "\n",
        "#adicionar um elemento na posição X\n",
        "item = input(\"digite um produto para a lista de compras: \") #ao ser recebido o elemento estará 'naturalmente' no formato string\n",
        "valor = float(input(\"digite o preço do item: \")) #converte para pronto flutuante, já que é recebido como string\n",
        "pos = int(input(\"Digite a posição para adicionar o item (iniciando em 0): \")) #converte para inteiro, pois recebe sempre uma string\n",
        "lista.insert(pos, item) #adicionando na lista de compras\n",
        "preco.insert(pos, valor) #adicionando o preço do item na mesma posição\n",
        "\n",
        "#exibindo o resultado da operação\n",
        "print(lista, \"\\n\", preco)\n",
        "\n",
        "#ordenando a lista\n",
        "# existe a função sort, mas ela ordenaria as duas listas independentemente uma da outra\n",
        "# então precisamos ordenar manualmente, usando o algoritmo Selection Sort por sua facilidade\n",
        "# precisamos escolher um critério para ordenação, que será o menor preço\n",
        "# não nos preocuparemos aqui com custo nem com tempo de processamento\n",
        "listaOrdenada = []\n",
        "precoOrdenado = []\n",
        "loop = len(lista) #salva em uma variavel o tamanho da lista\n",
        "while loop > 0:  #executa tantas vezes qnt a quantidade de elementos da lista\n",
        "  valor = min(preco) #encontra o menor valor\n",
        "  pos = preco.index(valor) #pega a posição do elemento\n",
        "  #a seguir, remove o menor elemento encontrado na lista de compras e o adiciona na lista ordenada\n",
        "  listaOrdenada.append(lista.pop(pos)) \n",
        "  precoOrdenado.append(preco.pop(pos))\n",
        "  loop = loop - 1 #executou o laço, logo falta um a menos e a lista de compras tem um elemento a menos para ser ordenado\n",
        "#no final, exibe o resultado da operação\n",
        "print(listaOrdenada, \"\\n\", precoOrdenado)\n",
        "\n"
      ],
      "execution_count": null,
      "outputs": []
    },
    {
      "cell_type": "markdown",
      "metadata": {
        "id": "gzIzStCo20DE"
      },
      "source": [
        "Escreva a função de Fibonacci utilizando uma função com um laço de\n",
        "repetição. Depois, escreva uma segunda versão na forma recursiva.\n",
        "Uma sugestão complementar é ir aumentando o valor da entrada e\n",
        "estudar o comportamento de ambas as versões do algoritmo."
      ]
    },
    {
      "cell_type": "code",
      "metadata": {
        "id": "cWYfbQJw3FwM",
        "colab": {
          "base_uri": "https://localhost:8080/"
        },
        "outputId": "cf570dcc-0e0f-4e87-a294-2745cf37e1ea"
      },
      "source": [
        "# apesar de python funcionar como script, as declarações de função ficam no inicio do código\n",
        "# e exatamente pelo funcionamento de script que não é necessário a função main para executar o algoritmo\n",
        "# o algoritmo de Fibonacci, basicamente, é uma função recursiva da forma :\n",
        "# f(x) = f(x-1) + f(x-2) \n",
        "# sendo que por definição:\n",
        "# f(0) = 0\n",
        "# f(1) = 1\n",
        "\n",
        "#então, primeiro vamos declarar a função e passar como parametro a variável que vai receber o X da função\n",
        "def fibIteracao (num):\n",
        "  if num >= 0: \n",
        "    print (\"f(0) = 0\")\n",
        "  if num >= 1:\n",
        "    print (\"f(1) = 1\")\n",
        "  #nao utilizaremos o else, porque se o if for satisfeito o programa sai da função retornando o valor definido\n",
        "  if num >= 2:\n",
        "    ultimo=1\n",
        "    penultimo=0\n",
        "    count = 2 #recebe o próximo valor para a função\n",
        "    while count <= num:\n",
        "      termo = ultimo + penultimo\n",
        "      print(\"f(\", count, \") =\", termo)\n",
        "      penultimo = ultimo\n",
        "      ultimo = termo\n",
        "      count += 1\n",
        "\n",
        "#estava com problemas para fazer a exibição da sequencia na versão recursiva\n",
        "# mas isso é normal, porque como a função entra dentro de si mesma e recalcula, as exibições se bagunçam mesmo\n",
        "# você pode ir colocando para exibir o valor da variável num em algum ponto do código e observar esse efeito\n",
        "def fibRecursivo (num): \n",
        "  if num == 1:\n",
        "    return 1\n",
        "  if num == 2:\n",
        "    return 1\n",
        "  else:\n",
        "    return fibRecursivo(num-1) + fibRecursivo(num-2)\n",
        "\n",
        "#o que marca o ponto onde a execução começa, ou uma função termina, é a identação\n",
        "#nunca se esqueça de ter muito cuidado sobre isso \n",
        "x = int(input(\"Digite uma entrada para a função de fibonacci: \"))\n",
        "print(\"sequencia de fibonacci calculada pelo algoritmo iterativo:\")\n",
        "fibIteracao(x)\n",
        "print (\"valor para a iteração x escolhida, calculada pela recursão: \")\n",
        "fibRecursivo(x)"
      ],
      "execution_count": null,
      "outputs": [
        {
          "output_type": "execute_result",
          "data": {
            "text/plain": [
              "55"
            ]
          },
          "metadata": {
            "tags": []
          },
          "execution_count": 6
        }
      ]
    },
    {
      "cell_type": "markdown",
      "metadata": {
        "id": "h1bqtCo83GF-"
      },
      "source": [
        "No arquivo de texto com o conto de Isaac Asimov, A Ultima Pergunta,\n",
        "todas as palavras já estão sem acentos, mas ainda contém maiúsculas\n",
        "e sinais de pontuação. Pensando nestes detalhes e em tudo que você\n",
        "aprendeu, desenvolva um algoritmo que encontre quantas vezes uma\n",
        "determinada palavra, fornecida pelo usuário, aparece no texto.\n",
        "\n",
        "Dica: a palavra 'galaxia' aparece 28 vezes, ou então você pode usar a\n",
        "ferramenta lupa do bloco de notas para conseguir esta informação"
      ]
    },
    {
      "cell_type": "code",
      "metadata": {
        "id": "LNirffp63LiE"
      },
      "source": [
        "#primeiro, recebe a palavra a ser buscada\n",
        "palavra = input(\"Digite uma palavra para buscar: \")\n",
        "#então converte em minuscula para o tamanho não interferir\n",
        "palava = palavra.lower()\n",
        "#abre o arquivo de texto\n",
        "arquivo = open('texto.txt','r')\n",
        "#salva todas as linhas em uma lista de strings\n",
        "lista = arquivo.readlines()\n",
        "#fecha o arquivo por segurança\n",
        "arquivo.close();\n",
        "#estas duas listas serão necessárias futuramente e devem ser declaradas fora do laço de repetição\n",
        "separacao = []\n",
        "historia = []\n",
        "#iteramos sobre a lista, para separar as strings (que antes era linhas inteiras) em palavras\n",
        "for item in lista:\n",
        "  #comando split separa sempre que o valor entre parenteses for encontrado (se vazio considera espaço)\n",
        "  #as palavras separadas resultantes são salvas na lista auxiliar\n",
        "  separacao = item.split()\n",
        "  #e esta lista auxiliar é concatenada com uma grande lista que salvará todas as palavras do texto\n",
        "  historia = historia + separacao \n",
        "#sai do for e inicia a variavel usada como contador\n",
        "contador = 0\n",
        "#percorre então no laço a lista com palavra por palavra do texto\n",
        "for linha in historia:\n",
        "  #verifica se a palavra escolhida está presente dentro da palavra, ou se são iguais, lembrando de converter o tamanho para não interferir\n",
        "  if palavra in linha.lower():\n",
        "    #incrementa o contador se positivo\n",
        "    contador = contador + 1\n",
        "#depois, exibe o resultado final \n",
        "print(\"esta palavra foi encontrada:\", contador, \"vezes\" )"
      ],
      "execution_count": null,
      "outputs": []
    },
    {
      "cell_type": "markdown",
      "metadata": {
        "id": "mkUsR7sJ3PBx"
      },
      "source": [
        "Considerando duas matrizes de tamanho dinâmico, recebida por um\n",
        "arquivo externo ou digitada pelo usuário, programe funções para que\n",
        "o usuário possa calcular as operações matemáticas básicas de soma e\n",
        "multiplicação. A utilização do numpy ou de qualquer outra biblioteca é\n",
        "opcional."
      ]
    },
    {
      "cell_type": "code",
      "metadata": {
        "id": "fGyw7q4h3VLQ"
      },
      "source": [
        "# executar o algoritmo no computador, já que o arquivo deve ser criado e preenchido\n",
        "\n",
        "import numpy as np\n",
        "\n",
        "def soma(matriz1, matriz2):\n",
        "  #analisa se o n° de linhas é igual e o número de colunas é igual\n",
        "  if len(matriz1) == len(matriz2) and len(matriz1[0]) == len(matriz2[0]):\n",
        "    matriz3 = np.empty([len(matriz1), len(matriz1[0])], dtype=float)\n",
        "    # realiza a soma\n",
        "    for i in range(0, len(matriz1)):\n",
        "      for j in range(0, len(matriz1[0])):\n",
        "        matriz3[i][j] = float(matriz1[i][j]) + float(matriz2[i][j])\n",
        "  return matriz3\n",
        "\n",
        "def mult (matriz1, matriz2):\n",
        "  #verificando se é possível multiplicar\n",
        "  if len(matriz1) == len(matriz2[0]) and len(matriz2) == len(matriz1[0]):\n",
        "    matriz3 = np.zeros((len(matriz1), len(matriz1[0])))\n",
        "    # multiplicação\n",
        "    for i in range (0, len(matriz3)):\n",
        "      for j in range (0, len(matriz3[0])):\n",
        "        for k in range (0, len(matriz3[0])):\n",
        "          matriz3[i][j] += float(matriz1[i][k]) * float(matriz2[k][j])\n",
        "    return matriz3\n",
        "  else:\n",
        "    return -1\n",
        "\n",
        "def main():\n",
        "  # abre o arquivo\n",
        "  arq = open('dados.txt', 'r')\n",
        "\n",
        "  #declara as variaveis que serão as amtrizes\n",
        "  matriz1 = []\n",
        "  matriz2 = []\n",
        "\n",
        "  #preenche as matrizes\n",
        "  for l in arq:\n",
        "    if '$' in l:\n",
        "      break\n",
        "    matriz1.append(l.split())\n",
        "\n",
        "  for l in arq:\n",
        "    matriz2.append(l.split())\n",
        "\n",
        "  print(soma(matriz1, matriz2))\n",
        "  print(mult(matriz1, matriz2))\n",
        "\n"
      ],
      "execution_count": null,
      "outputs": []
    }
  ]
}